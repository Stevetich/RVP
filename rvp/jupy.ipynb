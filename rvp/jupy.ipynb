{
 "cells": [
  {
   "cell_type": "code",
   "execution_count": 1,
   "id": "c6a5b5d1-40c6-4f4d-bf88-d612e46d07b9",
   "metadata": {},
   "outputs": [
    {
     "name": "stderr",
     "output_type": "stream",
     "text": [
      "/opt/conda/envs/mm/lib/python3.9/site-packages/tqdm/auto.py:21: TqdmWarning: IProgress not found. Please update jupyter and ipywidgets. See https://ipywidgets.readthedocs.io/en/stable/user_install.html\n",
      "  from .autonotebook import tqdm as notebook_tqdm\n",
      "2023-11-10 14:09:22,938 - modelscope - INFO - PyTorch version 1.13.1+cu117 Found.\n",
      "2023-11-10 14:09:22,942 - modelscope - INFO - Loading ast index from /root/.cache/modelscope/ast_indexer\n",
      "2023-11-10 14:09:22,977 - modelscope - INFO - Loading done! Current index file version is 1.9.4, with md5 15e81bede39dd83de9c6d0777d4ba7ab and a total number of 945 components indexed\n"
     ]
    }
   ],
   "source": [
    "import os\n",
    "import numpy as np\n",
    "\n",
    "import torch\n",
    "from torch.utils.data import DataLoader, Dataset\n",
    "import torch.nn.functional as F\n",
    "import torchvision.transforms as T\n",
    "import torchvision.transforms.functional as TF\n",
    "from torchvision.transforms import InterpolationMode\n",
    "\n",
    "import cv2\n",
    "import matplotlib.pyplot as plt\n",
    "from PIL import Image\n",
    "\n",
    "from skimage.segmentation import slic\n",
    "from fast_slic import Slic\n",
    "from sklearn.cluster import KMeans\n",
    "from scipy.ndimage import label\n",
    "\n",
    "from mmseg.datasets.transforms import *\n",
    "from mmseg.datasets import PascalVOCDataset\n",
    "from mmengine.structures import PixelData\n",
    "\n",
    "\n",
    "from mmengine.config import Config, DictAction\n",
    "from mmengine.runner import Runner\n",
    "import itertools\n",
    "import time\n",
    "\n",
    "from modelscope import (\n",
    "    snapshot_download, AutoModelForCausalLM, AutoTokenizer, GenerationConfig\n",
    ")"
   ]
  },
  {
   "cell_type": "code",
   "execution_count": 2,
   "id": "ac07b566",
   "metadata": {},
   "outputs": [
    {
     "name": "stderr",
     "output_type": "stream",
     "text": [
      "The model is automatically converting to bf16 for faster inference. If you want to disable the automatic precision, please manually add bf16/fp16/fp32=True to \"AutoModelForCausalLM.from_pretrained\".\n"
     ]
    },
    {
     "name": "stderr",
     "output_type": "stream",
     "text": [
      "Loading checkpoint shards: 100%|██████████| 10/10 [00:56<00:00,  5.68s/it]\n"
     ]
    }
   ],
   "source": [
    "model_id = 'qwen/Qwen-VL-Chat'\n",
    "revision = 'v1.0.0'\n",
    "model_dir = '../Qwen-VL-Chat'\n",
    "model = AutoModelForCausalLM.from_pretrained(model_dir, device_map=\"cuda\", trust_remote_code=True).eval()\n",
    "tokenizer = AutoTokenizer.from_pretrained(model_dir, trust_remote_code=True)\n",
    "if not hasattr(tokenizer, 'model_dir'):\n",
    "    tokenizer.model_dir = model_dir"
   ]
  },
  {
   "cell_type": "code",
   "execution_count": 57,
   "id": "20d1dd77-b001-4afc-9799-e57091a2eb13",
   "metadata": {},
   "outputs": [
    {
     "data": {
      "text/plain": [
       "'[background, aeroplane, bicycle, bird, boat, bottle, bus, car, cat, chair, cow, diningtable, dog, horse, motorbike, person, pottedplant, sheep, sofa, train, tvmonitor]'"
      ]
     },
     "execution_count": 57,
     "metadata": {},
     "output_type": "execute_result"
    }
   ],
   "source": [
    "classes=['background', 'aeroplane', 'bicycle', 'bird', 'boat',\n",
    "        'bottle', 'bus', 'car', 'cat', 'chair', 'cow', 'diningtable',\n",
    "        'dog', 'horse', 'motorbike', 'person', 'pottedplant', 'sheep',\n",
    "        'sofa', 'train', 'tvmonitor']\n",
    "classes_str = \"\"\n",
    "for name in classes:\n",
    "    classes_str += (name + \", \")\n",
    "classes_str = classes_str[:-2]\n",
    "\n",
    "\n",
    "prompt_template = \"<img>{}</img>The green mask in the figure covers part of an object, \\\n",
    "please analyze what is the most likely category of this object? Please select from the categories given below: background, aeroplane, bicycle, bird, boat, bottle, bus, car, cat, chair, cow, diningtable, dog, horse, motorbike, person, pottedplant, sheep, sofa, train, tvmonitor.\\\n",
    "Please distinguish as many categories of objects as possible, and do not be affected by the main objects in the figure.\"\n",
    "\n",
    "prompt_template = '<img>{}</img>You are a professional semantic segmentation model. \\\n",
    "In the image, the green glow covers an object or part of an object.\\\n",
    "From the following list: [background, aeroplane, bicycle, bird, boat, bottle, bus, car, cat, chair, cow, diningtable, dog, horse, motorbike, person, pottedplant, sheep, sofa, train, tvmonitor], \\\n",
    "select the name that you think best represents the object or part of the object category under the green glow (or green mask). \\\n",
    "You can guess the name of the covered object by the following steps: \\\n",
    "1. Think \"Is the object under the green glow (or green mask) complete?\" \\\n",
    "2. If complete, think \"What is the object?\" \\\n",
    "3. If not complete, think \"What is the complete object of this component?\" \\\n",
    "4. Strictly choose your answer from the above list. \\\n",
    "5. If you are not certain with the object under the mask, just reply with \"background\".'\n",
    "\n",
    "name2id, id2name = dict(), dict()\n",
    "\n",
    "for id, class_name in enumerate(classes):\n",
    "    name2id[class_name] = id\n",
    "    id2name[id] = class_name\n",
    "'[' + classes_str + ']'"
   ]
  },
  {
   "cell_type": "code",
   "execution_count": 5,
   "id": "e0ec95f6",
   "metadata": {},
   "outputs": [],
   "source": [
    "# class FeatureHooker:\n",
    "#     def __init__(self, layer):\n",
    "#         self.layer = layer\n",
    "#         self.fea = None\n",
    "#         self.handle = None\n",
    "\n",
    "#         self.register_hook()\n",
    "    \n",
    "#     def hook_fn(self, m, fea_in, fea_out):\n",
    "#         self.fea = fea_out\n",
    "        \n",
    "#     def register_hook(self):\n",
    "#         self.handle = self.layer.register_forward_hook(self.hook_fn)\n",
    "\n",
    "# hooker = FeatureHooker(layer=model.transformer.visual.transformer.resblocks[47])\n",
    "\n",
    "feature_l = [None]\n",
    "def hook_fn(m, fea_in, fea_out):\n",
    "    feature_l[0] = fea_out.detach().cpu()\n",
    "\n",
    "handle = model.transformer.visual.transformer.resblocks[47].register_forward_hook(hook_fn)"
   ]
  },
  {
   "cell_type": "code",
   "execution_count": 195,
   "id": "b3f3e115",
   "metadata": {},
   "outputs": [
    {
     "data": {
      "text/plain": [
       "['The image shows two red and white trains on adjacent tracks. The left train is partially visible, while the right train is fully visible, showing its entire length. Both trains have doors and windows, with the right train having two doors and four windows, and the left train having one door and two windows. The trains appear to be old, as they have a vintage feel to them.']"
      ]
     },
     "execution_count": 195,
     "metadata": {},
     "output_type": "execute_result"
    }
   ],
   "source": [
    "\n",
    "queries = ['<img>{}</img>Describe this image.'.format(img_path)]\n",
    "responses, history = model.chat(tokenizer=tokenizer, queries=queries, history=None)\n",
    "responses"
   ]
  },
  {
   "cell_type": "code",
   "execution_count": 58,
   "id": "ca3b026c",
   "metadata": {},
   "outputs": [
    {
     "name": "stdout",
     "output_type": "stream",
     "text": [
      "person\n",
      "person\n",
      "tvmonitor\n",
      "person\n",
      "background\n",
      "person\n"
     ]
    }
   ],
   "source": [
    "for idx in range(6):\n",
    "    img_path = '/remote-home/zhangjiacheng/RVP/data/rendered_img/2007_000727/{}.jpg'.format(idx)\n",
    "    queries = [prompt_template.format(img_path)]\n",
    "    responses, history = model.chat(tokenizer=tokenizer, queries=queries, history=None)\n",
    "    print (responses[0])"
   ]
  },
  {
   "cell_type": "code",
   "execution_count": 320,
   "id": "96605313",
   "metadata": {},
   "outputs": [
    {
     "name": "stderr",
     "output_type": "stream",
     "text": [
      "/opt/conda/envs/mm/lib/python3.9/site-packages/sklearn/cluster/_kmeans.py:1416: FutureWarning: The default value of `n_init` will change from 10 to 'auto' in 1.4. Set the value of `n_init` explicitly to suppress the warning\n",
      "  super()._check_params_vs_input(X, default_n_init=10)\n"
     ]
    }
   ],
   "source": [
    "# K-Means Cluter\n",
    "device = 'cuda:0'\n",
    "# feature = hooker.fea[:, 0].cpu().float()\n",
    "feature = feature_l[0][:, 0].float()\n",
    "num_clusters = 6\n",
    "kmeans = KMeans(n_clusters=num_clusters)\n",
    "cluster_ids = kmeans.fit_predict(feature)"
   ]
  },
  {
   "cell_type": "markdown",
   "id": "95ef2912",
   "metadata": {},
   "source": [
    "### 整理代码\n",
    "空岛去除和空缺填补"
   ]
  },
  {
   "cell_type": "code",
   "execution_count": 321,
   "id": "9f1a8f4d",
   "metadata": {},
   "outputs": [
    {
     "name": "stdout",
     "output_type": "stream",
     "text": [
      "(32, 32)\n",
      "0\n",
      "1\n",
      "2\n",
      "3\n",
      "4\n",
      "5\n",
      "torch.Size([6, 32, 32])\n"
     ]
    }
   ],
   "source": [
    "cluster_ids = np.resize(cluster_ids, (32, 32))\n",
    "print (cluster_ids.shape)\n",
    "\n",
    "masks = []\n",
    "for id in np.unique(cluster_ids):\n",
    "    print (id)\n",
    "    mask = (cluster_ids == id)\n",
    "    masks.append(torch.tensor(mask))\n",
    "masks = torch.stack(masks)\n",
    "pre_masks = masks.clone()\n",
    "print (masks.shape)"
   ]
  },
  {
   "cell_type": "code",
   "execution_count": 324,
   "id": "3158cb38",
   "metadata": {},
   "outputs": [
    {
     "name": "stdout",
     "output_type": "stream",
     "text": [
      "torch.Size([32, 32])\n",
      "torch.Size([32, 32])\n",
      "torch.Size([32, 32])\n",
      "torch.Size([32, 32])\n",
      "torch.Size([32, 32])\n",
      "torch.Size([32, 32])\n"
     ]
    },
    {
     "data": {
      "text/plain": [
       "torch.Size([6, 3, 335, 500])"
      ]
     },
     "execution_count": 324,
     "metadata": {},
     "output_type": "execute_result"
    }
   ],
   "source": [
    "structure = [\n",
    "    [0, 1, 0],\n",
    "    [1, 1, 1],\n",
    "    [0, 1, 0]\n",
    "]\n",
    "\n",
    "for mask in masks:\n",
    "    print (mask.shape)\n",
    "    l, n = label(mask, structure=structure)\n",
    "    for lb in range(1, n + 1):\n",
    "        if np.sum(lb == l) <= 3:\n",
    "            mask[lb == l] = 0\n",
    "    \n",
    "    reversed_mask = mask.logical_not()\n",
    "    l, n = label(reversed_mask, structure=structure)\n",
    "    for lb in range(1, n + 1):\n",
    "        if np.sum(lb == l) <= 10:\n",
    "            # print (lbl)\n",
    "            mask[lb == l] = 1\n",
    "\n",
    "cluster_img = np.zeros((448, 448, 3))\n",
    "\n",
    "img = cv2.imread(img_path)\n",
    "resized_masks = masks[:, None].repeat(1, 3, 1, 1)\n",
    "# resized_masks = torch.zeros((masks.shape[0], 3, 448, 448))\n",
    "# for i in range(32):\n",
    "#     for j in range(32):\n",
    "#         if masks[i, j]:\n",
    "#             resized_masks[..., i*14:(i+1)*14, j*14:(j+1)*14] = 1\n",
    "\n",
    "resized_masks = TF.resize(resized_masks, (img.shape[0], img.shape[1]), interpolation=InterpolationMode.NEAREST)\n",
    "# resized_masks = F.interpolate(resized_masks, size=(img.shape[0], img.shape[1]), mode='bilinear', align_corners=False).byte()\n",
    "resized_masks.shape"
   ]
  },
  {
   "cell_type": "code",
   "execution_count": 325,
   "id": "d48bcc7e",
   "metadata": {},
   "outputs": [
    {
     "data": {
      "text/plain": [
       "tensor([[False, False, False,  ..., False, False, False],\n",
       "        [False, False, False,  ..., False, False, False],\n",
       "        [False, False, False,  ..., False, False, False],\n",
       "        ...,\n",
       "        [ True,  True,  True,  ..., False, False, False],\n",
       "        [ True,  True,  True,  ..., False, False, False],\n",
       "        [ True,  True,  True,  ..., False, False, False]])"
      ]
     },
     "execution_count": 325,
     "metadata": {},
     "output_type": "execute_result"
    },
    {
     "data": {
      "image/png": "[encoded data removed]",
      "text/plain": [
       "<Figure size 1000x500 with 2 Axes>"
      ]
     },
     "metadata": {},
     "output_type": "display_data"
    }
   ],
   "source": [
    "idx = 4\n",
    "fig, axes = plt.subplots(1, 2, figsize=(10, 5))\n",
    "tmp = resized_masks[idx, 0]\n",
    "axes[0].imshow(tmp, cmap='gray', interpolation='none')\n",
    "axes[1].imshow(masks[idx], cmap='gray', interpolation='none')\n",
    "\n",
    "tmp"
   ]
  },
  {
   "cell_type": "code",
   "execution_count": null,
   "id": "a9f2a6c9",
   "metadata": {},
   "outputs": [],
   "source": [
    "\n",
    "cluster_img = np.zeros((448, 448, 3))\n",
    "\n",
    "for i in range(32):\n",
    "    for j in range(32):\n",
    "        patch_label = cluster_ids[i * 32 + j]\n",
    "        # color = plt.cm.tab10(patch_label / 10)\n",
    "        # cluster_img[i*14:(i+1)*14, j*14:(j+1)*14] = color[:3]\n",
    "        cluster_img[i*14:(i+1)*14, j*14:(j+1)*14] = patch_label\n",
    "\n",
    "# superpixels_masks.shape: (ids, C, H, W)\n",
    "masks = []\n",
    "for id in np.unique(cluster_ids):\n",
    "    mask = (cluster_img == id)\n",
    "    masks.append(torch.tensor(mask))\n",
    "masks = torch.stack(masks).permute(0, 3, 1, 2)\n",
    "\n",
    "img = cv2.imread(img_path)\n",
    "img = cv2.cvtColor(img, cv2.COLOR_BGR2RGB)\n",
    "img = torch.tensor(img.transpose(2, 0, 1))\n",
    "img_repeated = T.Resize((448, 448))(img)[None].expand_as(masks)"
   ]
  },
  {
   "cell_type": "code",
   "execution_count": null,
   "id": "559194f9",
   "metadata": {},
   "outputs": [],
   "source": [
    "print (cluster_ids[..., None].shape)\n",
    "np.tile(cluster_ids[..., None], (1, 1, 3)).shape"
   ]
  },
  {
   "cell_type": "code",
   "execution_count": 153,
   "id": "4c066165",
   "metadata": {},
   "outputs": [
    {
     "name": "stdout",
     "output_type": "stream",
     "text": [
      "torch.Size([6, 3, 32, 32])\n",
      "torch.Size([32, 32])\n",
      "12\n"
     ]
    },
    {
     "data": {
      "image/png": "[encoded data removed]",
      "text/plain": [
       "<Figure size 640x480 with 1 Axes>"
      ]
     },
     "metadata": {},
     "output_type": "display_data"
    }
   ],
   "source": [
    "# masks.shape\n",
    "# import torchvision.transforms.functional as TF\n",
    "# resized = TF.resize(masks, (img.shape[1], img.shape[2]))\n",
    "# resized = resized[0, 1].numpy()\n",
    "# resized.shape\n",
    "\n",
    "\n",
    "masks = []\n",
    "for id in np.unique(cluster_ids):\n",
    "    mask = (cluster_ids == id)\n",
    "    masks.append(torch.tensor(mask))\n",
    "masks = torch.stack(masks).permute(0, 3, 1, 2)\n",
    "\n",
    "structure = [\n",
    "    [1, 1, 1],\n",
    "    [1, 1, 1],\n",
    "    [1, 1, 1]\n",
    "]\n",
    "\n",
    "structure = [\n",
    "    [0, 1, 0],\n",
    "    [1, 1, 1],\n",
    "    [0, 1, 0]\n",
    "]\n",
    "\n",
    "print (masks.shape)\n",
    "\n",
    "def reconstruct_mask(mask):\n",
    "    pass\n",
    "\n",
    "a = np.array([[0,0,1,1,0,0],\n",
    "              [0,0,0,1,0,0],\n",
    "              [1,1,0,0,1,0],\n",
    "              [0,0,0,1,0,0]])\n",
    "l, n = label(masks[2, 0], structure=structure)\n",
    "plt.imshow(l, cmap='gray', interpolation='none')\n",
    "\n",
    "tmp = masks[2, 0]\n",
    "print (tmp.shape)\n",
    "for lbl in range(1, n + 1):\n",
    "    if np.sum(lbl == l) <= 3:\n",
    "        # print (lbl)\n",
    "        masks[2, 0][lbl == l] = 0\n",
    "print (n)"
   ]
  },
  {
   "cell_type": "code",
   "execution_count": 154,
   "id": "9f896076",
   "metadata": {},
   "outputs": [
    {
     "data": {
      "text/plain": [
       "<matplotlib.image.AxesImage at 0x7f7ea6fb0df0>"
      ]
     },
     "execution_count": 154,
     "metadata": {},
     "output_type": "execute_result"
    },
    {
     "data": {
      "image/png": "[encoded data removed]",
      "text/plain": [
       "<Figure size 640x480 with 1 Axes>"
      ]
     },
     "metadata": {},
     "output_type": "display_data"
    }
   ],
   "source": [
    "structure = [\n",
    "    [0, 1, 0],\n",
    "    [1, 1, 1],\n",
    "    [0, 1, 0]\n",
    "]\n",
    "reversed_mask = masks[2, 0].logical_not()\n",
    "l, n = label(reversed_mask, structure=structure)\n",
    "\n",
    "for lbl in range(1, n + 1):\n",
    "    if np.sum(lbl == l) <= 3:\n",
    "        # print (lbl)\n",
    "        masks[2, 0][lbl == l] = 1\n",
    "\n",
    "plt.imshow(masks[2, 0], cmap='gray', interpolation='none')"
   ]
  },
  {
   "cell_type": "code",
   "execution_count": 28,
   "id": "99e9f7bc",
   "metadata": {},
   "outputs": [
    {
     "ename": "RecursionError",
     "evalue": "maximum recursion depth exceeded in comparison",
     "output_type": "error",
     "traceback": [
      "\u001b[0;31m---------------------------------------------------------------------------\u001b[0m",
      "\u001b[0;31mRecursionError\u001b[0m                            Traceback (most recent call last)",
      "\u001b[1;32m/remote-home/zhangjiacheng/RVP/rvp/jupy.ipynb 单元格 9\u001b[0m line \u001b[0;36m5\n\u001b[1;32m     <a href='vscode-notebook-cell://ssh-remote%2Bdocker/remote-home/zhangjiacheng/RVP/rvp/jupy.ipynb#X14sdnNjb2RlLXJlbW90ZQ%3D%3D?line=50'>51</a>\u001b[0m             \u001b[39mif\u001b[39;00m (row \u001b[39m!=\u001b[39m i \u001b[39mor\u001b[39;00m col \u001b[39m!=\u001b[39m j) \u001b[39mand\u001b[39;00m (\u001b[39m0\u001b[39m \u001b[39m<\u001b[39m\u001b[39m=\u001b[39m row \u001b[39m<\u001b[39m \u001b[39mlen\u001b[39m(matrix)) \u001b[39mand\u001b[39;00m (\u001b[39m0\u001b[39m \u001b[39m<\u001b[39m\u001b[39m=\u001b[39m col \u001b[39m<\u001b[39m \u001b[39mlen\u001b[39m(matrix[\u001b[39m0\u001b[39m])):\n\u001b[1;32m     <a href='vscode-notebook-cell://ssh-remote%2Bdocker/remote-home/zhangjiacheng/RVP/rvp/jupy.ipynb#X14sdnNjb2RlLXJlbW90ZQ%3D%3D?line=51'>52</a>\u001b[0m                 restore_visited(matrix, row, col)\n\u001b[0;32m---> <a href='vscode-notebook-cell://ssh-remote%2Bdocker/remote-home/zhangjiacheng/RVP/rvp/jupy.ipynb#X14sdnNjb2RlLXJlbW90ZQ%3D%3D?line=54'>55</a>\u001b[0m \u001b[39mprint\u001b[39m(remove_single_islands(resized))\n",
      "\u001b[1;32m/remote-home/zhangjiacheng/RVP/rvp/jupy.ipynb 单元格 9\u001b[0m line \u001b[0;36m4\n\u001b[1;32m     <a href='vscode-notebook-cell://ssh-remote%2Bdocker/remote-home/zhangjiacheng/RVP/rvp/jupy.ipynb#X14sdnNjb2RlLXJlbW90ZQ%3D%3D?line=37'>38</a>\u001b[0m                 matrix[i][j] \u001b[39m=\u001b[39m \u001b[39m0\u001b[39m\n\u001b[1;32m     <a href='vscode-notebook-cell://ssh-remote%2Bdocker/remote-home/zhangjiacheng/RVP/rvp/jupy.ipynb#X14sdnNjb2RlLXJlbW90ZQ%3D%3D?line=38'>39</a>\u001b[0m             \u001b[39melse\u001b[39;00m:\n\u001b[1;32m     <a href='vscode-notebook-cell://ssh-remote%2Bdocker/remote-home/zhangjiacheng/RVP/rvp/jupy.ipynb#X14sdnNjb2RlLXJlbW90ZQ%3D%3D?line=39'>40</a>\u001b[0m                 \u001b[39m# Restore the visited cells\u001b[39;00m\n\u001b[0;32m---> <a href='vscode-notebook-cell://ssh-remote%2Bdocker/remote-home/zhangjiacheng/RVP/rvp/jupy.ipynb#X14sdnNjb2RlLXJlbW90ZQ%3D%3D?line=40'>41</a>\u001b[0m                 restore_visited(matrix, i, j)\n\u001b[1;32m     <a href='vscode-notebook-cell://ssh-remote%2Bdocker/remote-home/zhangjiacheng/RVP/rvp/jupy.ipynb#X14sdnNjb2RlLXJlbW90ZQ%3D%3D?line=41'>42</a>\u001b[0m \u001b[39mreturn\u001b[39;00m matrix\n",
      "\u001b[1;32m/remote-home/zhangjiacheng/RVP/rvp/jupy.ipynb 单元格 9\u001b[0m line \u001b[0;36m5\n\u001b[1;32m     <a href='vscode-notebook-cell://ssh-remote%2Bdocker/remote-home/zhangjiacheng/RVP/rvp/jupy.ipynb#X14sdnNjb2RlLXJlbW90ZQ%3D%3D?line=49'>50</a>\u001b[0m \u001b[39mfor\u001b[39;00m col \u001b[39min\u001b[39;00m \u001b[39mrange\u001b[39m(j\u001b[39m-\u001b[39m\u001b[39m1\u001b[39m, j\u001b[39m+\u001b[39m\u001b[39m2\u001b[39m):\n\u001b[1;32m     <a href='vscode-notebook-cell://ssh-remote%2Bdocker/remote-home/zhangjiacheng/RVP/rvp/jupy.ipynb#X14sdnNjb2RlLXJlbW90ZQ%3D%3D?line=50'>51</a>\u001b[0m     \u001b[39mif\u001b[39;00m (row \u001b[39m!=\u001b[39m i \u001b[39mor\u001b[39;00m col \u001b[39m!=\u001b[39m j) \u001b[39mand\u001b[39;00m (\u001b[39m0\u001b[39m \u001b[39m<\u001b[39m\u001b[39m=\u001b[39m row \u001b[39m<\u001b[39m \u001b[39mlen\u001b[39m(matrix)) \u001b[39mand\u001b[39;00m (\u001b[39m0\u001b[39m \u001b[39m<\u001b[39m\u001b[39m=\u001b[39m col \u001b[39m<\u001b[39m \u001b[39mlen\u001b[39m(matrix[\u001b[39m0\u001b[39m])):\n\u001b[0;32m---> <a href='vscode-notebook-cell://ssh-remote%2Bdocker/remote-home/zhangjiacheng/RVP/rvp/jupy.ipynb#X14sdnNjb2RlLXJlbW90ZQ%3D%3D?line=51'>52</a>\u001b[0m         restore_visited(matrix, row, col)\n",
      "\u001b[1;32m/remote-home/zhangjiacheng/RVP/rvp/jupy.ipynb 单元格 9\u001b[0m line \u001b[0;36m5\n\u001b[1;32m     <a href='vscode-notebook-cell://ssh-remote%2Bdocker/remote-home/zhangjiacheng/RVP/rvp/jupy.ipynb#X14sdnNjb2RlLXJlbW90ZQ%3D%3D?line=49'>50</a>\u001b[0m \u001b[39mfor\u001b[39;00m col \u001b[39min\u001b[39;00m \u001b[39mrange\u001b[39m(j\u001b[39m-\u001b[39m\u001b[39m1\u001b[39m, j\u001b[39m+\u001b[39m\u001b[39m2\u001b[39m):\n\u001b[1;32m     <a href='vscode-notebook-cell://ssh-remote%2Bdocker/remote-home/zhangjiacheng/RVP/rvp/jupy.ipynb#X14sdnNjb2RlLXJlbW90ZQ%3D%3D?line=50'>51</a>\u001b[0m     \u001b[39mif\u001b[39;00m (row \u001b[39m!=\u001b[39m i \u001b[39mor\u001b[39;00m col \u001b[39m!=\u001b[39m j) \u001b[39mand\u001b[39;00m (\u001b[39m0\u001b[39m \u001b[39m<\u001b[39m\u001b[39m=\u001b[39m row \u001b[39m<\u001b[39m \u001b[39mlen\u001b[39m(matrix)) \u001b[39mand\u001b[39;00m (\u001b[39m0\u001b[39m \u001b[39m<\u001b[39m\u001b[39m=\u001b[39m col \u001b[39m<\u001b[39m \u001b[39mlen\u001b[39m(matrix[\u001b[39m0\u001b[39m])):\n\u001b[0;32m---> <a href='vscode-notebook-cell://ssh-remote%2Bdocker/remote-home/zhangjiacheng/RVP/rvp/jupy.ipynb#X14sdnNjb2RlLXJlbW90ZQ%3D%3D?line=51'>52</a>\u001b[0m         restore_visited(matrix, row, col)\n",
      "    \u001b[0;31m[... skipping similar frames: restore_visited at line 52 (2967 times)]\u001b[0m\n",
      "\u001b[1;32m/remote-home/zhangjiacheng/RVP/rvp/jupy.ipynb 单元格 9\u001b[0m line \u001b[0;36m5\n\u001b[1;32m     <a href='vscode-notebook-cell://ssh-remote%2Bdocker/remote-home/zhangjiacheng/RVP/rvp/jupy.ipynb#X14sdnNjb2RlLXJlbW90ZQ%3D%3D?line=49'>50</a>\u001b[0m \u001b[39mfor\u001b[39;00m col \u001b[39min\u001b[39;00m \u001b[39mrange\u001b[39m(j\u001b[39m-\u001b[39m\u001b[39m1\u001b[39m, j\u001b[39m+\u001b[39m\u001b[39m2\u001b[39m):\n\u001b[1;32m     <a href='vscode-notebook-cell://ssh-remote%2Bdocker/remote-home/zhangjiacheng/RVP/rvp/jupy.ipynb#X14sdnNjb2RlLXJlbW90ZQ%3D%3D?line=50'>51</a>\u001b[0m     \u001b[39mif\u001b[39;00m (row \u001b[39m!=\u001b[39m i \u001b[39mor\u001b[39;00m col \u001b[39m!=\u001b[39m j) \u001b[39mand\u001b[39;00m (\u001b[39m0\u001b[39m \u001b[39m<\u001b[39m\u001b[39m=\u001b[39m row \u001b[39m<\u001b[39m \u001b[39mlen\u001b[39m(matrix)) \u001b[39mand\u001b[39;00m (\u001b[39m0\u001b[39m \u001b[39m<\u001b[39m\u001b[39m=\u001b[39m col \u001b[39m<\u001b[39m \u001b[39mlen\u001b[39m(matrix[\u001b[39m0\u001b[39m])):\n\u001b[0;32m---> <a href='vscode-notebook-cell://ssh-remote%2Bdocker/remote-home/zhangjiacheng/RVP/rvp/jupy.ipynb#X14sdnNjb2RlLXJlbW90ZQ%3D%3D?line=51'>52</a>\u001b[0m         restore_visited(matrix, row, col)\n",
      "\u001b[1;32m/remote-home/zhangjiacheng/RVP/rvp/jupy.ipynb 单元格 9\u001b[0m line \u001b[0;36m4\n\u001b[1;32m     <a href='vscode-notebook-cell://ssh-remote%2Bdocker/remote-home/zhangjiacheng/RVP/rvp/jupy.ipynb#X14sdnNjb2RlLXJlbW90ZQ%3D%3D?line=43'>44</a>\u001b[0m \u001b[39mdef\u001b[39;00m \u001b[39mrestore_visited\u001b[39m(matrix, i, j):\n\u001b[0;32m---> <a href='vscode-notebook-cell://ssh-remote%2Bdocker/remote-home/zhangjiacheng/RVP/rvp/jupy.ipynb#X14sdnNjb2RlLXJlbW90ZQ%3D%3D?line=44'>45</a>\u001b[0m     \u001b[39mif\u001b[39;00m i \u001b[39m<\u001b[39m \u001b[39m0\u001b[39m \u001b[39mor\u001b[39;00m i \u001b[39m>\u001b[39m\u001b[39m=\u001b[39m \u001b[39mlen\u001b[39m(matrix) \u001b[39mor\u001b[39;00m j \u001b[39m<\u001b[39m \u001b[39m0\u001b[39m \u001b[39mor\u001b[39;00m j \u001b[39m>\u001b[39m\u001b[39m=\u001b[39m \u001b[39mlen\u001b[39m(matrix[\u001b[39m0\u001b[39m]) \u001b[39mor\u001b[39;00m matrix[i][j] \u001b[39m!=\u001b[39;49m \u001b[39m-\u001b[39;49m\u001b[39m1\u001b[39;49m:\n\u001b[1;32m     <a href='vscode-notebook-cell://ssh-remote%2Bdocker/remote-home/zhangjiacheng/RVP/rvp/jupy.ipynb#X14sdnNjb2RlLXJlbW90ZQ%3D%3D?line=45'>46</a>\u001b[0m         \u001b[39mreturn\u001b[39;00m\n\u001b[1;32m     <a href='vscode-notebook-cell://ssh-remote%2Bdocker/remote-home/zhangjiacheng/RVP/rvp/jupy.ipynb#X14sdnNjb2RlLXJlbW90ZQ%3D%3D?line=46'>47</a>\u001b[0m     matrix[i][j] \u001b[39m=\u001b[39m \u001b[39m1\u001b[39m  \u001b[39m# restore cell\u001b[39;00m\n",
      "\u001b[0;31mRecursionError\u001b[0m: maximum recursion depth exceeded in comparison"
     ]
    }
   ],
   "source": [
    "# Recursive\n",
    "def dfs(matrix, i, j):\n",
    "    if i < 0 or i >= len(matrix) or j < 0 or j >= len(matrix[0]) or matrix[i][j] != 1:\n",
    "        return 0\n",
    "    # Mark the cell as visited\n",
    "    matrix[i][j] = -1\n",
    "    size = 1  # current cell\n",
    "    # visit all neighbors\n",
    "    for row in range(i-1, i+2):\n",
    "        for col in range(j-1, j+2):\n",
    "            if (row != i or col != j) and (0 <= row < len(matrix)) and (0 <= col < len(matrix[0])):\n",
    "                size += dfs(matrix, row, col)\n",
    "    return size\n",
    "\n",
    "# Iterative\n",
    "def dfs(matrix, i, j):\n",
    "    stack = [(i, j)]\n",
    "    size = 0\n",
    "    while stack:\n",
    "        x, y = stack.pop()\n",
    "        if 0 <= x < matrix.shape[0] and 0 <= y < matrix.shape[1] and matrix[x][y] == 1:\n",
    "            size += 1\n",
    "            matrix[x][y] = -1\n",
    "            for dx in [-1, 0, 1]:\n",
    "                for dy in [-1, 0, 1]:\n",
    "                    if dx != 0 or dy != 0:\n",
    "                        stack.append((x + dx, y + dy))\n",
    "    return size    \n",
    "\n",
    "def remove_single_islands(matrix):\n",
    "    for i in range(len(matrix)):\n",
    "        for j in range(len(matrix[0])):\n",
    "            if matrix[i][j] == 1:\n",
    "                # Start DFS if the cell is 1\n",
    "                size = dfs(matrix, i, j)\n",
    "                # If the island size is 1, change the original matrix cell to 0\n",
    "                if size == 1:\n",
    "                    matrix[i][j] = 0\n",
    "                else:\n",
    "                    # Restore the visited cells\n",
    "                    restore_visited(matrix, i, j)\n",
    "    return matrix\n",
    "\n",
    "def restore_visited(matrix, i, j):\n",
    "    if i < 0 or i >= len(matrix) or j < 0 or j >= len(matrix[0]) or matrix[i][j] != -1:\n",
    "        return\n",
    "    matrix[i][j] = 1  # restore cell\n",
    "    # visit all neighbors\n",
    "    for row in range(i-1, i+2):\n",
    "        for col in range(j-1, j+2):\n",
    "            if (row != i or col != j) and (0 <= row < len(matrix)) and (0 <= col < len(matrix[0])):\n",
    "                restore_visited(matrix, row, col)\n",
    "\n",
    "\n",
    "print(remove_single_islands(resized))"
   ]
  },
  {
   "cell_type": "code",
   "execution_count": 2,
   "id": "0c49463e",
   "metadata": {},
   "outputs": [
    {
     "ename": "NameError",
     "evalue": "name 'torch' is not defined",
     "output_type": "error",
     "traceback": [
      "\u001b[0;31m---------------------------------------------------------------------------\u001b[0m",
      "\u001b[0;31mNameError\u001b[0m                                 Traceback (most recent call last)",
      "\u001b[1;32m/remote-home/zhangjiacheng/RVP/rvp/jupy.ipynb 单元格 9\u001b[0m line \u001b[0;36m1\n\u001b[0;32m----> <a href='vscode-notebook-cell://ssh-remote%2Bdocker/remote-home/zhangjiacheng/RVP/rvp/jupy.ipynb#X34sdnNjb2RlLXJlbW90ZQ%3D%3D?line=0'>1</a>\u001b[0m color \u001b[39m=\u001b[39m torch\u001b[39m.\u001b[39mtensor([[\u001b[39m255\u001b[39m, \u001b[39m0\u001b[39m, \u001b[39m0\u001b[39m], [\u001b[39m0\u001b[39m, \u001b[39m255\u001b[39m, \u001b[39m0\u001b[39m], [\u001b[39m0\u001b[39m, \u001b[39m0\u001b[39m, \u001b[39m255\u001b[39m]]) \u001b[39m# R G B\u001b[39;00m\n\u001b[1;32m      <a href='vscode-notebook-cell://ssh-remote%2Bdocker/remote-home/zhangjiacheng/RVP/rvp/jupy.ipynb#X34sdnNjb2RlLXJlbW90ZQ%3D%3D?line=1'>2</a>\u001b[0m Red \u001b[39m=\u001b[39m color[\u001b[39m0\u001b[39m]\u001b[39m.\u001b[39mreshape(\u001b[39m1\u001b[39m, \u001b[39m3\u001b[39m, \u001b[39m1\u001b[39m, \u001b[39m1\u001b[39m)\n\u001b[1;32m      <a href='vscode-notebook-cell://ssh-remote%2Bdocker/remote-home/zhangjiacheng/RVP/rvp/jupy.ipynb#X34sdnNjb2RlLXJlbW90ZQ%3D%3D?line=2'>3</a>\u001b[0m Green \u001b[39m=\u001b[39m color[\u001b[39m1\u001b[39m]\u001b[39m.\u001b[39mreshape(\u001b[39m1\u001b[39m, \u001b[39m3\u001b[39m, \u001b[39m1\u001b[39m, \u001b[39m1\u001b[39m)\n",
      "\u001b[0;31mNameError\u001b[0m: name 'torch' is not defined"
     ]
    }
   ],
   "source": [
    "color = torch.tensor([[255, 0, 0], [0, 255, 0], [0, 0, 255]]) # R G B\n",
    "Red = color[0].reshape(1, 3, 1, 1)\n",
    "Green = color[1].reshape(1, 3, 1, 1)\n",
    "Blue = color[2].reshape(1, 3, 1, 1)\n",
    "\n",
    "mask_imgs = torch.zeros_like(img_repeated)\n",
    "remain_imgs = torch.zeros_like(img_repeated)\n",
    "mask_imgs[masks] = img_repeated[masks]\n",
    "remain_imgs[masks.logical_not()] = img_repeated[masks.logical_not()]\n",
    "\n",
    "# Render images\n",
    "# Mix-up (Background brightness unchanged)\n",
    "color_mode = 'G'\n",
    "if color_mode == 'R':\n",
    "    rendered_imgs = (mask_imgs * 0.6 + masks * Red * 0.4) + remain_imgs\n",
    "    # rendered_imgs = img_repeated * 0.6 + masks * Red * 0.4\n",
    "elif color_mode == 'G':\n",
    "    rendered_imgs = (mask_imgs * 0.6 + masks * Green * 0.4) + remain_imgs\n",
    "    # rendered_imgs = img_repeated * 0.6 + masks * Green * 0.4\n",
    "elif color_mode == 'B':\n",
    "    rendered_imgs = (mask_imgs * 0.6 + masks * Blue * 0.4) + remain_imgs\n",
    "    # rendered_imgs = img_repeated * 0.6 + masks * Blue * 0.4\n",
    "else:\n",
    "    raise ValueError('Color not supported: {}'.format(color_mode))"
   ]
  },
  {
   "cell_type": "code",
   "execution_count": 21,
   "id": "e098151b",
   "metadata": {},
   "outputs": [
    {
     "name": "stdout",
     "output_type": "stream",
     "text": [
      "[ 0  1  2  3  4  5 12 13 14 15 16 17 18 19 20 21 22 23]\n",
      "[ 0 18]\n"
     ]
    },
    {
     "data": {
      "text/plain": [
       "(1, 375, 500)"
      ]
     },
     "execution_count": 21,
     "metadata": {},
     "output_type": "execute_result"
    }
   ],
   "source": [
    "pred = cv2.imread('/remote-home/zhangjiacheng/RVP/data/sem_seg_preds/scikit30/G/2007_001175.jpg')\n",
    "# pred = np.array(Image.open('/remote-home/zhangjiacheng/RVP/data/sem_seg_preds/scikit30/G/2007_001175.jpg'))\n",
    "# print (pred.shape)\n",
    "# print (pred[..., 0])\n",
    "# for i in range(pred.shape[0]):\n",
    "#     print (pred[i])\n",
    "print (np.unique(pred))\n",
    "pred1 = np.load('./test.npy')\n",
    "print (np.unique(pred1))\n",
    "pred1[None].shape"
   ]
  },
  {
   "cell_type": "code",
   "execution_count": 8,
   "id": "d73ac47e",
   "metadata": {},
   "outputs": [
    {
     "data": {
      "text/plain": [
       "torch.Size([6, 3, 448, 448])"
      ]
     },
     "execution_count": 8,
     "metadata": {},
     "output_type": "execute_result"
    }
   ],
   "source": [
    "cluster_ids"
   ]
  }
 ],
 "metadata": {
  "kernelspec": {
   "display_name": "Python 3 (ipykernel)",
   "language": "python",
   "name": "python3"
  },
  "language_info": {
   "codemirror_mode": {
    "name": "ipython",
    "version": 3
   },
   "file_extension": ".py",
   "mimetype": "text/x-python",
   "name": "python",
   "nbconvert_exporter": "python",
   "pygments_lexer": "ipython3",
   "version": "3.9.18"
  }
 },
 "nbformat": 4,
 "nbformat_minor": 5
}
